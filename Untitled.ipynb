{
 "cells": [
  {
   "cell_type": "code",
   "execution_count": 2,
   "id": "43ced37e",
   "metadata": {},
   "outputs": [],
   "source": [
    "import boto3\n",
    "import sagemaker\n",
    "import sagemaker.session\n",
    "\n",
    "\n",
    "# region = boto3.Session().region_name\n",
    "sagemaker_session = sagemaker.session.Session()\n",
    "role = sagemaker.get_execution_role()\n",
    "default_bucket = sagemaker_session.default_bucket()\n",
    "# model_package_group_name = f\"AbaloneModelPackageGroupName\"\n",
    "model_package_group_name = f\"MasivAiModelPackageGroupName\""
   ]
  },
  {
   "cell_type": "code",
   "execution_count": null,
   "id": "ea8fbc73",
   "metadata": {},
   "outputs": [],
   "source": []
  },
  {
   "cell_type": "code",
   "execution_count": null,
   "id": "ed3a1450",
   "metadata": {},
   "outputs": [],
   "source": []
  },
  {
   "cell_type": "code",
   "execution_count": null,
   "id": "ced30a29",
   "metadata": {
    "scrolled": true
   },
   "outputs": [
    {
     "name": "stderr",
     "output_type": "stream",
     "text": [
      "/home/ec2-user/anaconda3/envs/python3/lib/python3.6/site-packages/psycopg2/__init__.py:144: UserWarning: The psycopg2 wheel package will be renamed from release 2.8; in order to keep installing from binary please use \"pip install psycopg2-binary\" instead. For details see: <http://initd.org/psycopg/docs/install.html#binary-install-from-pypi>.\n",
      "  \"\"\")\n"
     ]
    },
    {
     "name": "stdout",
     "output_type": "stream",
     "text": [
      "PostgreSQL server information\n",
      "{'user': 'root', 'dbname': 'graana_proddb', 'host': 'graana-prod-replica-1.cspnvy09cxmb.us-east-1.rds.amazonaws.com', 'port': '5432', 'tty': '', 'options': '', 'sslmode': 'prefer', 'sslcompression': '1', 'krbsrvname': 'postgres', 'target_session_attrs': 'any'} \n",
      "\n"
     ]
    }
   ],
   "source": [
    "import psycopg2\n",
    "from psycopg2 import Error\n",
    "import pandas as pd\n",
    "import time\n",
    "\n",
    "try:\n",
    "    # Connect to an existing database\n",
    "    connection = psycopg2.connect(user=\"root\",\n",
    "                                  password=\"gr#$!^ndxaMCAs9^445ASD123asd123\",\n",
    "                                  host=\"graana-prod-replica-1.cspnvy09cxmb.us-east-1.rds.amazonaws.com\",\n",
    "                                  port=\"5432\",\n",
    "                                  database=\"graana_proddb\")\n",
    "\n",
    "    # Create a cursor to perform database operations\n",
    "    cursor = connection.cursor()\n",
    "    # Print PostgreSQL details\n",
    "    print(\"PostgreSQL server information\")\n",
    "    print(connection.get_dsn_parameters(), \"\\n\")\n",
    "\n",
    "\n",
    "except (Exception, Error) as error:\n",
    "    print(\"Error while connecting to PostgreSQL\", error)\n",
    "    \n",
    "sql = \"\"\"\n",
    "select *\n",
    "from properties\n",
    "\"\"\"\n",
    "\n",
    "d = pd.read_sql_query(sql,connection)\n",
    "\n",
    "d.to_csv(\"data/properties.csv\", index=False)\n",
    "\n",
    "print (\"1\")\n",
    "\n",
    "\n",
    "sql = \"\"\"\n",
    "select *\n",
    "from areas\n",
    "\"\"\"\n",
    "\n",
    "d = pd.read_sql_query(sql,connection)\n",
    "\n",
    "d.to_csv(\"data/areas.csv\", index=False)\n",
    "\n",
    "print (\"2\")\n",
    "\n",
    "sql = \"\"\"\n",
    "select *\n",
    "from cities\n",
    "\"\"\"\n",
    "\n",
    "d = pd.read_sql_query(sql,connection)\n",
    "\n",
    "d.to_csv(\"data/cities.csv\", index=False)\n",
    "\n",
    "print (\"3\")"
   ]
  },
  {
   "cell_type": "code",
   "execution_count": null,
   "id": "6cc88223",
   "metadata": {},
   "outputs": [],
   "source": []
  },
  {
   "cell_type": "code",
   "execution_count": 3,
   "id": "ec26e227",
   "metadata": {},
   "outputs": [
    {
     "name": "stdout",
     "output_type": "stream",
     "text": [
      "s3://sagemaker-us-east-2-476153202769/masivai/areas.csv\n",
      "s3://sagemaker-us-east-2-476153202769/masivai/cities.csv\n",
      "s3://sagemaker-us-east-2-476153202769/masivai/properties.csv\n"
     ]
    }
   ],
   "source": [
    "# !mkdir -p data\n",
    "local_path = \"data/areas.csv\"\n",
    "\n",
    "base_uri = f\"s3://{default_bucket}/masivai\"\n",
    "input_data_areas = sagemaker.s3.S3Uploader.upload(\n",
    "    local_path=local_path, \n",
    "    desired_s3_uri=base_uri,\n",
    ")\n",
    "print(input_data_areas)\n",
    "\n",
    "# !mkdir -p data\n",
    "local_path = \"data/cities.csv\"\n",
    "\n",
    "base_uri = f\"s3://{default_bucket}/masivai\"\n",
    "input_data_cities = sagemaker.s3.S3Uploader.upload(\n",
    "    local_path=local_path, \n",
    "    desired_s3_uri=base_uri,\n",
    ")\n",
    "print(input_data_cities)\n",
    "\n",
    "# !mkdir -p data\n",
    "local_path = \"data/properties.csv\"\n",
    "\n",
    "base_uri = f\"s3://{default_bucket}/masivai\"\n",
    "input_data_properties = sagemaker.s3.S3Uploader.upload(\n",
    "    local_path=local_path, \n",
    "    desired_s3_uri=base_uri,\n",
    ")\n",
    "print(input_data_properties)"
   ]
  },
  {
   "cell_type": "code",
   "execution_count": 4,
   "id": "8b9d2eb4",
   "metadata": {},
   "outputs": [],
   "source": [
    "# !mkdir -p data\n",
    "# local_path = \"data/abalone-dataset.csv\"\n",
    "# # local_path = \"data/properties.csv\"\n",
    "\n",
    "# # s3 = boto3.resource(\"s3\")\n",
    "# # s3.Bucket(f\"sagemaker-servicecatalog-seedcode-{region}\").download_file(\n",
    "# #     \"dataset/abalone-dataset.csv\",\n",
    "# #     local_path\n",
    "# # )\n",
    "\n",
    "# # base_uri = f\"s3://{default_bucket}/abalone\"\n",
    "# base_uri = f\"s3://{default_bucket}/masivai\"\n",
    "# input_data_uri = sagemaker.s3.S3Uploader.upload(\n",
    "#     local_path=local_path, \n",
    "#     desired_s3_uri=base_uri,\n",
    "# )\n",
    "# print(input_data_uri)"
   ]
  },
  {
   "cell_type": "code",
   "execution_count": 5,
   "id": "a5507db6",
   "metadata": {},
   "outputs": [],
   "source": [
    "# # local_path = \"data/abalone-dataset-batch\"\n",
    "# local_path = \"data/sale_test.csv\"\n",
    "\n",
    "# # s3 = boto3.resource(\"s3\")\n",
    "# # s3.Bucket(f\"sagemaker-servicecatalog-seedcode-{region}\").download_file(\n",
    "# #     \"dataset/abalone-dataset-batch\",\n",
    "# #     local_path\n",
    "# # )\n",
    "\n",
    "# base_uri = f\"s3://{default_bucket}/masiv_ai\"\n",
    "# batch_data_uri = sagemaker.s3.S3Uploader.upload(\n",
    "#     local_path=local_path, \n",
    "#     desired_s3_uri=base_uri,\n",
    "# )\n",
    "# print(batch_data_uri)"
   ]
  },
  {
   "cell_type": "code",
   "execution_count": 6,
   "id": "86ce4d69",
   "metadata": {},
   "outputs": [],
   "source": [
    "from sagemaker.workflow.parameters import (\n",
    "    ParameterInteger,\n",
    "    ParameterString,\n",
    ")\n",
    "\n",
    "\n",
    "processing_instance_count = ParameterInteger(\n",
    "    name=\"ProcessingInstanceCount\",\n",
    "    default_value=1\n",
    ")\n",
    "processing_instance_type = ParameterString(\n",
    "    name=\"ProcessingInstanceType\",\n",
    "    default_value=\"ml.m5.xlarge\"\n",
    ")\n",
    "training_instance_type = ParameterString(\n",
    "    name=\"TrainingInstanceType\",\n",
    "    default_value=\"ml.m5.xlarge\"\n",
    ")\n",
    "model_approval_status = ParameterString(\n",
    "    name=\"ModelApprovalStatus\",\n",
    "    default_value=\"PendingManualApproval\"\n",
    ")\n",
    "# input_data = ParameterString(\n",
    "#     name=\"InputData\",\n",
    "#     default_value=input_data_uri,\n",
    "# )\n",
    "input_data_area = ParameterString(\n",
    "    name=\"InputData\",\n",
    "    default_value=input_data_areas,\n",
    ")\n",
    "input_data_city = ParameterString(\n",
    "    name=\"InputData\",\n",
    "    default_value=input_data_cities,\n",
    ")\n",
    "input_data_property = ParameterString(\n",
    "    name=\"InputData\",\n",
    "    default_value=input_data_properties,\n",
    ")\n",
    "# batch_data = ParameterString(\n",
    "#     name=\"BatchData\",\n",
    "#     default_value=batch_data_uri,\n",
    "# )"
   ]
  },
  {
   "cell_type": "code",
   "execution_count": null,
   "id": "4794f764",
   "metadata": {},
   "outputs": [],
   "source": []
  },
  {
   "cell_type": "code",
   "execution_count": 7,
   "id": "10ff5015",
   "metadata": {},
   "outputs": [],
   "source": [
    "# !mkdir -p abalone\n",
    "# !mkdir -p masivai"
   ]
  },
  {
   "cell_type": "code",
   "execution_count": 8,
   "id": "ec0dc117",
   "metadata": {},
   "outputs": [],
   "source": [
    "# base_dir = \"/opt/ml/processing\"\n",
    "# f\"{base_dir}/train/sale_train.csv\""
   ]
  },
  {
   "cell_type": "code",
   "execution_count": null,
   "id": "527ff2be",
   "metadata": {},
   "outputs": [],
   "source": []
  },
  {
   "cell_type": "code",
   "execution_count": 9,
   "id": "4e06d90c",
   "metadata": {
    "scrolled": true
   },
   "outputs": [],
   "source": [
    "from sagemaker.processing import ScriptProcessor, ProcessingInput, ProcessingOutput\n",
    "\n",
    "script_processor = ScriptProcessor(command=['python3'],\n",
    "                image_uri='763104351884.dkr.ecr.us-east-2.amazonaws.com/tensorflow-training:2.5.0-cpu-py37-ubuntu18.04',\n",
    "                role=role,\n",
    "                instance_count=processing_instance_count,\n",
    "                instance_type=processing_instance_type)\n",
    "\n",
    "# script_processor.run(code='masivai/preprocessing.py',\n",
    "#     inputs=[ProcessingInput(source=\"s3://sagemaker-us-east-2-476153202769/masivai\", destination=\"/opt/ml/processing/input\")],\n",
    "#     outputs=[ProcessingOutput(output_name=\"sale_train\", source=\"/opt/ml/processing/train\"),\n",
    "#              ProcessingOutput(output_name=\"sale_test\", source=\"/opt/ml/processing/test\")])"
   ]
  },
  {
   "cell_type": "code",
   "execution_count": null,
   "id": "634e8cf7",
   "metadata": {},
   "outputs": [],
   "source": []
  },
  {
   "cell_type": "code",
   "execution_count": 10,
   "id": "06e11b85",
   "metadata": {},
   "outputs": [],
   "source": [
    "# from sagemaker.sklearn.processing import SKLearnProcessor\n",
    "\n",
    "\n",
    "# framework_version = \"0.23-1\"\n",
    "\n",
    "# sklearn_processor = SKLearnProcessor(\n",
    "#     framework_version=framework_version,\n",
    "#     instance_type=processing_instance_type,\n",
    "#     instance_count=processing_instance_count,\n",
    "# #     base_job_name=\"sklearn-abalone-process\",\n",
    "#     base_job_name=\"sklearn-masiv-ai-process\",\n",
    "#     role=role,\n",
    "# )"
   ]
  },
  {
   "cell_type": "code",
   "execution_count": null,
   "id": "27ab0a6b",
   "metadata": {},
   "outputs": [],
   "source": []
  },
  {
   "cell_type": "code",
   "execution_count": 11,
   "id": "a6603d53",
   "metadata": {},
   "outputs": [],
   "source": [
    "from sagemaker.processing import ProcessingInput, ProcessingOutput\n",
    "from sagemaker.workflow.steps import ProcessingStep\n",
    "    \n",
    "\n",
    "step_process = ProcessingStep(\n",
    "    name=\"masivaiProcess\",\n",
    "#     processor=sklearn_processor,\n",
    "    processor=script_processor,\n",
    "    inputs=[\n",
    "#       ProcessingInput(source=input_data_property, destination=\"/opt/ml/processing/input_data_property\"),  \n",
    "      ProcessingInput(source=\"s3://sagemaker-us-east-2-476153202769/masivai\", destination=\"/opt/ml/processing/input\"),  \n",
    "#       ProcessingInput(source=input_data_area, destination=\"/opt/ml/processing/input_data_area\"),  \n",
    "#       ProcessingInput(source=input_data_city, destination=\"/opt/ml/processing/input_data_city\"),  \n",
    "    ],\n",
    "    outputs=[\n",
    "        ProcessingOutput(output_name=\"sale_train\", source=\"/opt/ml/processing/train\"),\n",
    "#         ProcessingOutput(output_name=\"validation\", source=\"/opt/ml/processing/validation\"),\n",
    "        ProcessingOutput(output_name=\"sale_test\", source=\"/opt/ml/processing/test\")\n",
    "    ],\n",
    "#     code=\"abalone/preprocessing.py\",\n",
    "    code=\"masivai/preprocessing.py\",\n",
    ")"
   ]
  },
  {
   "cell_type": "code",
   "execution_count": 12,
   "id": "f159775e",
   "metadata": {},
   "outputs": [],
   "source": [
    "# model_path = f\"s3://{default_bucket}/AbaloneTrain\"\n",
    "model_path = f\"s3://{default_bucket}/masivaiTrain\""
   ]
  },
  {
   "cell_type": "code",
   "execution_count": 13,
   "id": "ce080481",
   "metadata": {},
   "outputs": [
    {
     "name": "stderr",
     "output_type": "stream",
     "text": [
      "train_instance_type has been renamed in sagemaker>=2.\n",
      "See: https://sagemaker.readthedocs.io/en/stable/v2.html for details.\n",
      "train_instance_count has been renamed in sagemaker>=2.\n",
      "See: https://sagemaker.readthedocs.io/en/stable/v2.html for details.\n",
      "train_instance_type has been renamed in sagemaker>=2.\n",
      "See: https://sagemaker.readthedocs.io/en/stable/v2.html for details.\n"
     ]
    }
   ],
   "source": [
    "# from sagemaker.estimator import Estimator\n",
    "\n",
    "\n",
    "# image_uri = sagemaker.image_uris.retrieve(\n",
    "#     framework=\"xgboost\",\n",
    "#     region=region,\n",
    "#     version=\"1.0-1\",\n",
    "#     py_version=\"py3\",\n",
    "#     instance_type=training_instance_type,\n",
    "# )\n",
    "# xgb_train = Estimator(\n",
    "#     image_uri=image_uri,\n",
    "#     instance_type=training_instance_type,\n",
    "#     instance_count=1,\n",
    "#     output_path=model_path,\n",
    "#     role=role,\n",
    "# )\n",
    "# xgb_train.set_hyperparameters(\n",
    "#     objective=\"reg:linear\",\n",
    "#     num_round=50,\n",
    "#     max_depth=5,\n",
    "#     eta=0.2,\n",
    "#     gamma=4,\n",
    "#     min_child_weight=6,\n",
    "#     subsample=0.7,\n",
    "#     silent=0\n",
    "# )\n",
    "\n",
    "from sagemaker.tensorflow import TensorFlow\n",
    "sign_estimator = TensorFlow(entry_point='masivai/train.py',\n",
    "                             role=role,\n",
    "                             train_instance_count=1,\n",
    "                             train_instance_type='ml.p2.xlarge',\n",
    "                             framework_version='2.4.1',\n",
    "                             py_version='py37'\n",
    "                           )\n",
    "\n",
    "#                              image_uri=\"476153202769.dkr.ecr.us-east-2.amazonaws.com/gr-pv-repo:latest\"\n",
    "# '763104351884.dkr.ecr.us-east-2.amazonaws.com/sagemaker-tensorflow:2.4.1-cpu-py3-ubuntu18.04'"
   ]
  },
  {
   "cell_type": "code",
   "execution_count": 14,
   "id": "66dcc161",
   "metadata": {},
   "outputs": [],
   "source": [
    "# image_uri\n",
    "# 763104351884.dkr.ecr.us-east-1.amazonaws.com/tensorflow-inference:2.4.1-cpu-py37-ubuntu18.04"
   ]
  },
  {
   "cell_type": "code",
   "execution_count": 15,
   "id": "34931450",
   "metadata": {},
   "outputs": [],
   "source": [
    "from sagemaker.inputs import TrainingInput\n",
    "from sagemaker.workflow.steps import TrainingStep\n",
    "\n",
    "\n",
    "step_train = TrainingStep(\n",
    "    name=\"masivaiTrain\",\n",
    "    estimator=sign_estimator,\n",
    "    inputs={\n",
    "        \"train\": TrainingInput(\n",
    "            s3_data=step_process.properties.ProcessingOutputConfig.Outputs[\n",
    "                \"sale_train\"\n",
    "            ].S3Output.S3Uri,\n",
    "            content_type=\"text/csv\"\n",
    "        ),\n",
    "        \"test\": TrainingInput(\n",
    "            s3_data=step_process.properties.ProcessingOutputConfig.Outputs[\n",
    "                \"sale_test\"\n",
    "            ].S3Output.S3Uri,\n",
    "            content_type=\"text/csv\"\n",
    "        )\n",
    "    },\n",
    ")"
   ]
  },
  {
   "cell_type": "code",
   "execution_count": null,
   "id": "bc9391cc",
   "metadata": {
    "scrolled": true
   },
   "outputs": [],
   "source": []
  },
  {
   "cell_type": "code",
   "execution_count": 16,
   "id": "92121754",
   "metadata": {},
   "outputs": [],
   "source": [
    "from sagemaker.processing import ScriptProcessor\n",
    "\n",
    "\n",
    "script_eval = ScriptProcessor(\n",
    "#     image_uri='763104351884.dkr.ecr.us-east-2.amazonaws.com/tensorflow-inference:2.4.1-cpu-py37-ubuntu18.04',\n",
    "    image_uri='763104351884.dkr.ecr.us-east-2.amazonaws.com/tensorflow-training:2.5.0-cpu-py37-ubuntu18.04',\n",
    "    command=[\"python3\"],\n",
    "    instance_type=processing_instance_type,\n",
    "    instance_count=1,\n",
    "#     base_job_name=\"script-abalone-eval\",\n",
    "    base_job_name=\"script-masiv-ai-eval\",\n",
    "    role=role,\n",
    ")"
   ]
  },
  {
   "cell_type": "code",
   "execution_count": 17,
   "id": "2f3a2b4c",
   "metadata": {},
   "outputs": [],
   "source": [
    "from sagemaker.workflow.properties import PropertyFile\n",
    "\n",
    "\n",
    "evaluation_report = PropertyFile(\n",
    "    name=\"EvaluationReport\",\n",
    "    output_name=\"evaluation\",\n",
    "    path=\"evaluation.json\"\n",
    ")\n",
    "step_eval = ProcessingStep(\n",
    "    name=\"masivaiEval\",\n",
    "    processor=script_eval,\n",
    "    inputs=[\n",
    "        ProcessingInput(\n",
    "            source=step_train.properties.ModelArtifacts.S3ModelArtifacts,\n",
    "            destination=\"/opt/ml/processing/model\"\n",
    "        ),\n",
    "        ProcessingInput(\n",
    "            source=step_process.properties.ProcessingOutputConfig.Outputs[\n",
    "                \"sale_test\"\n",
    "            ].S3Output.S3Uri,\n",
    "            destination=\"/opt/ml/processing/test\"\n",
    "        )\n",
    "    ],\n",
    "    outputs=[\n",
    "        ProcessingOutput(output_name=\"evaluation\", source=\"/opt/ml/processing/evaluation\"),\n",
    "    ],\n",
    "    code=\"masivai/evaluation.py\",\n",
    "    property_files=[evaluation_report],\n",
    ")"
   ]
  },
  {
   "cell_type": "code",
   "execution_count": 18,
   "id": "150a5fc1",
   "metadata": {},
   "outputs": [],
   "source": [
    "from sagemaker.model import Model\n",
    "\n",
    "\n",
    "model = Model(\n",
    "#     image_uri='763104351884.dkr.ecr.us-east-2.amazonaws.com/tensorflow-inference:2.4.1-cpu-py37-ubuntu18.04',\n",
    "    image_uri='763104351884.dkr.ecr.us-east-2.amazonaws.com/tensorflow-training:2.5.0-cpu-py37-ubuntu18.04',\n",
    "    model_data=step_train.properties.ModelArtifacts.S3ModelArtifacts,\n",
    "    sagemaker_session=sagemaker_session,\n",
    "    role=role,\n",
    ")"
   ]
  },
  {
   "cell_type": "code",
   "execution_count": 19,
   "id": "badaa15d",
   "metadata": {},
   "outputs": [],
   "source": [
    "from sagemaker.inputs import CreateModelInput\n",
    "\n",
    "\n",
    "inputs = CreateModelInput(\n",
    "    instance_type=\"ml.m5.large\",\n",
    "    accelerator_type=\"ml.eia1.medium\",\n",
    ")"
   ]
  },
  {
   "cell_type": "code",
   "execution_count": 20,
   "id": "fd49b38f",
   "metadata": {},
   "outputs": [],
   "source": [
    "from sagemaker.workflow.steps import CreateModelStep\n",
    "\n",
    "\n",
    "step_create_model = CreateModelStep(\n",
    "    name=\"MasivaiCreateModel\",\n",
    "    model=model,\n",
    "    inputs=inputs,\n",
    ")"
   ]
  },
  {
   "cell_type": "code",
   "execution_count": 21,
   "id": "739efee0",
   "metadata": {},
   "outputs": [],
   "source": [
    "# from sagemaker.transformer import Transformer\n",
    "\n",
    "\n",
    "# transformer = Transformer(\n",
    "#     model_name=step_create_model.properties.ModelName,\n",
    "#     instance_type=\"ml.m5.xlarge\",\n",
    "#     instance_count=1,\n",
    "#     output_path=f\"s3://{default_bucket}/AbaloneTransform\"\n",
    "# )"
   ]
  },
  {
   "cell_type": "code",
   "execution_count": 22,
   "id": "dd8a972c",
   "metadata": {},
   "outputs": [],
   "source": [
    "# from sagemaker.inputs import TransformInput\n",
    "# from sagemaker.workflow.steps import TransformStep\n",
    "\n",
    "\n",
    "# step_transform = TransformStep(\n",
    "#     name=\"AbaloneTransform\",\n",
    "#     transformer=transformer,\n",
    "#     inputs=TransformInput(data=batch_data)\n",
    "# )"
   ]
  },
  {
   "cell_type": "code",
   "execution_count": 23,
   "id": "38ac18f0",
   "metadata": {},
   "outputs": [],
   "source": [
    "from sagemaker.model_metrics import MetricsSource, ModelMetrics \n",
    "from sagemaker.workflow.step_collections import RegisterModel\n",
    "\n",
    "\n",
    "model_metrics = ModelMetrics(\n",
    "    model_statistics=MetricsSource(\n",
    "        s3_uri=\"{}/evaluation.json\".format(\n",
    "            step_eval.arguments[\"ProcessingOutputConfig\"][\"Outputs\"][0][\"S3Output\"][\"S3Uri\"]\n",
    "        ),\n",
    "        content_type=\"application/json\"\n",
    "    )\n",
    ")\n",
    "step_register = RegisterModel(\n",
    "    name=\"MasivaiRegisterModel\",\n",
    "    estimator=sign_estimator,\n",
    "    model_data=step_train.properties.ModelArtifacts.S3ModelArtifacts,\n",
    "    content_types=[\"text/csv\"],\n",
    "    response_types=[\"text/csv\"],\n",
    "    inference_instances=[\"ml.t2.medium\", \"ml.m5.xlarge\"],\n",
    "    transform_instances=[\"ml.m5.xlarge\"],\n",
    "    model_package_group_name=model_package_group_name,\n",
    "    approval_status=model_approval_status,\n",
    "    model_metrics=model_metrics\n",
    ")"
   ]
  },
  {
   "cell_type": "code",
   "execution_count": 24,
   "id": "b09747e9",
   "metadata": {},
   "outputs": [],
   "source": [
    "# from sagemaker.workflow.conditions import ConditionLessThanOrEqualTo\n",
    "# from sagemaker.workflow.condition_step import (\n",
    "#     ConditionStep,\n",
    "#     JsonGet,\n",
    "# )\n",
    "\n",
    "\n",
    "# cond_lte = ConditionLessThanOrEqualTo(\n",
    "#     left=JsonGet(\n",
    "#         step=step_eval,\n",
    "#         property_file=evaluation_report,\n",
    "#         json_path=\"regression_metrics.mse.value\"\n",
    "#     ),\n",
    "#     right=6.0\n",
    "# )"
   ]
  },
  {
   "cell_type": "code",
   "execution_count": 25,
   "id": "d9438517",
   "metadata": {},
   "outputs": [],
   "source": [
    "# step_cond = ConditionStep(\n",
    "#     name=\"AbaloneMSECond\",\n",
    "#     conditions=[cond_lte],\n",
    "#     if_steps=[step_register, step_create_model, step_transform],\n",
    "#     else_steps=[], \n",
    "# )"
   ]
  },
  {
   "cell_type": "code",
   "execution_count": 26,
   "id": "586b500d",
   "metadata": {},
   "outputs": [],
   "source": [
    "from sagemaker.workflow.pipeline import Pipeline\n",
    "\n",
    "\n",
    "pipeline_name = f\"PropVal-MasivAi\"\n",
    "pipeline = Pipeline(\n",
    "    name=pipeline_name,\n",
    "    parameters=[\n",
    "        processing_instance_type, \n",
    "        processing_instance_count,\n",
    "        training_instance_type,\n",
    "        model_approval_status,\n",
    "        input_data_areas,\n",
    "        input_data_cities,\n",
    "        input_data_properties\n",
    "#         batch_data,\n",
    "    ],\n",
    "    steps=[step_process, step_train, step_eval],#, step_cond],\n",
    ")"
   ]
  },
  {
   "cell_type": "code",
   "execution_count": 27,
   "id": "cd2f00c9",
   "metadata": {},
   "outputs": [
    {
     "data": {
      "text/plain": [
       "{'Version': '2020-12-01',\n",
       " 'Metadata': {},\n",
       " 'Parameters': [{'Name': 'ProcessingInstanceType',\n",
       "   'Type': 'String',\n",
       "   'DefaultValue': 'ml.m5.xlarge'},\n",
       "  {'Name': 'ProcessingInstanceCount', 'Type': 'Integer', 'DefaultValue': 1},\n",
       "  {'Name': 'TrainingInstanceType',\n",
       "   'Type': 'String',\n",
       "   'DefaultValue': 'ml.m5.xlarge'},\n",
       "  {'Name': 'ModelApprovalStatus',\n",
       "   'Type': 'String',\n",
       "   'DefaultValue': 'PendingManualApproval'}],\n",
       " 'PipelineExperimentConfig': {'ExperimentName': {'Get': 'Execution.PipelineName'},\n",
       "  'TrialName': {'Get': 'Execution.PipelineExecutionId'}},\n",
       " 'Steps': [{'Name': 'masivaiProcess',\n",
       "   'Type': 'Processing',\n",
       "   'Arguments': {'ProcessingResources': {'ClusterConfig': {'InstanceType': {'Get': 'Parameters.ProcessingInstanceType'},\n",
       "      'InstanceCount': {'Get': 'Parameters.ProcessingInstanceCount'},\n",
       "      'VolumeSizeInGB': 30}},\n",
       "    'AppSpecification': {'ImageUri': '763104351884.dkr.ecr.us-east-2.amazonaws.com/tensorflow-training:2.5.0-cpu-py37-ubuntu18.04',\n",
       "     'ContainerEntrypoint': ['python3',\n",
       "      '/opt/ml/processing/input/code/preprocessing.py']},\n",
       "    'RoleArn': 'arn:aws:iam::476153202769:role/service-role/AmazonSageMakerServiceCatalogProductsUseRole',\n",
       "    'ProcessingInputs': [{'InputName': 'input-1',\n",
       "      'AppManaged': False,\n",
       "      'S3Input': {'S3Uri': 's3://sagemaker-us-east-2-476153202769/masivai',\n",
       "       'LocalPath': '/opt/ml/processing/input',\n",
       "       'S3DataType': 'S3Prefix',\n",
       "       'S3InputMode': 'File',\n",
       "       'S3DataDistributionType': 'FullyReplicated',\n",
       "       'S3CompressionType': 'None'}},\n",
       "     {'InputName': 'code',\n",
       "      'AppManaged': False,\n",
       "      'S3Input': {'S3Uri': 's3://sagemaker-us-east-2-476153202769/masivaiProcess-7c9e5b1677be971ef44e7d30ce175f33/input/code/preprocessing.py',\n",
       "       'LocalPath': '/opt/ml/processing/input/code',\n",
       "       'S3DataType': 'S3Prefix',\n",
       "       'S3InputMode': 'File',\n",
       "       'S3DataDistributionType': 'FullyReplicated',\n",
       "       'S3CompressionType': 'None'}}],\n",
       "    'ProcessingOutputConfig': {'Outputs': [{'OutputName': 'sale_train',\n",
       "       'AppManaged': False,\n",
       "       'S3Output': {'S3Uri': 's3://sagemaker-us-east-2-476153202769/masivaiProcess-7c9e5b1677be971ef44e7d30ce175f33/output/sale_train',\n",
       "        'LocalPath': '/opt/ml/processing/train',\n",
       "        'S3UploadMode': 'EndOfJob'}},\n",
       "      {'OutputName': 'sale_test',\n",
       "       'AppManaged': False,\n",
       "       'S3Output': {'S3Uri': 's3://sagemaker-us-east-2-476153202769/masivaiProcess-7c9e5b1677be971ef44e7d30ce175f33/output/sale_test',\n",
       "        'LocalPath': '/opt/ml/processing/test',\n",
       "        'S3UploadMode': 'EndOfJob'}}]}}},\n",
       "  {'Name': 'masivaiTrain',\n",
       "   'Type': 'Training',\n",
       "   'Arguments': {'AlgorithmSpecification': {'TrainingInputMode': 'File',\n",
       "     'TrainingImage': '763104351884.dkr.ecr.us-east-2.amazonaws.com/tensorflow-training:2.4.1-gpu-py37',\n",
       "     'EnableSageMakerMetricsTimeSeries': True},\n",
       "    'OutputDataConfig': {'S3OutputPath': 's3://sagemaker-us-east-2-476153202769/'},\n",
       "    'StoppingCondition': {'MaxRuntimeInSeconds': 86400},\n",
       "    'ResourceConfig': {'InstanceCount': 1,\n",
       "     'InstanceType': 'ml.p2.xlarge',\n",
       "     'VolumeSizeInGB': 30},\n",
       "    'RoleArn': 'arn:aws:iam::476153202769:role/service-role/AmazonSageMakerServiceCatalogProductsUseRole',\n",
       "    'InputDataConfig': [{'DataSource': {'S3DataSource': {'S3DataType': 'S3Prefix',\n",
       "        'S3Uri': {'Get': \"Steps.masivaiProcess.ProcessingOutputConfig.Outputs['sale_train'].S3Output.S3Uri\"},\n",
       "        'S3DataDistributionType': 'FullyReplicated'}},\n",
       "      'ContentType': 'text/csv',\n",
       "      'ChannelName': 'train'},\n",
       "     {'DataSource': {'S3DataSource': {'S3DataType': 'S3Prefix',\n",
       "        'S3Uri': {'Get': \"Steps.masivaiProcess.ProcessingOutputConfig.Outputs['sale_test'].S3Output.S3Uri\"},\n",
       "        'S3DataDistributionType': 'FullyReplicated'}},\n",
       "      'ContentType': 'text/csv',\n",
       "      'ChannelName': 'test'}],\n",
       "    'HyperParameters': {'sagemaker_submit_directory': '\"s3://sagemaker-us-east-2-476153202769/tensorflow-training-2022-01-11-07-16-20-454/source/sourcedir.tar.gz\"',\n",
       "     'sagemaker_program': '\"train.py\"',\n",
       "     'sagemaker_container_log_level': '20',\n",
       "     'sagemaker_job_name': '\"tensorflow-training-2022-01-11-07-16-20-454\"',\n",
       "     'sagemaker_region': '\"us-east-2\"',\n",
       "     'model_dir': '\"s3://sagemaker-us-east-2-476153202769/tensorflow-training-2022-01-11-07-16-20-454/model\"'},\n",
       "    'DebugHookConfig': {'S3OutputPath': 's3://sagemaker-us-east-2-476153202769/',\n",
       "     'CollectionConfigurations': []},\n",
       "    'ProfilerRuleConfigurations': [{'RuleConfigurationName': 'ProfilerReport-1641885380',\n",
       "      'RuleEvaluatorImage': '915447279597.dkr.ecr.us-east-2.amazonaws.com/sagemaker-debugger-rules:latest',\n",
       "      'RuleParameters': {'rule_to_invoke': 'ProfilerReport'}}],\n",
       "    'ProfilerConfig': {'S3OutputPath': 's3://sagemaker-us-east-2-476153202769/'}}},\n",
       "  {'Name': 'masivaiEval',\n",
       "   'Type': 'Processing',\n",
       "   'Arguments': {'ProcessingResources': {'ClusterConfig': {'InstanceType': {'Get': 'Parameters.ProcessingInstanceType'},\n",
       "      'InstanceCount': 1,\n",
       "      'VolumeSizeInGB': 30}},\n",
       "    'AppSpecification': {'ImageUri': '763104351884.dkr.ecr.us-east-2.amazonaws.com/tensorflow-training:2.5.0-cpu-py37-ubuntu18.04',\n",
       "     'ContainerEntrypoint': ['python3',\n",
       "      '/opt/ml/processing/input/code/evaluation.py']},\n",
       "    'RoleArn': 'arn:aws:iam::476153202769:role/service-role/AmazonSageMakerServiceCatalogProductsUseRole',\n",
       "    'ProcessingInputs': [{'InputName': 'input-1',\n",
       "      'AppManaged': False,\n",
       "      'S3Input': {'S3Uri': {'Get': 'Steps.masivaiTrain.ModelArtifacts.S3ModelArtifacts'},\n",
       "       'LocalPath': '/opt/ml/processing/model',\n",
       "       'S3DataType': 'S3Prefix',\n",
       "       'S3InputMode': 'File',\n",
       "       'S3DataDistributionType': 'FullyReplicated',\n",
       "       'S3CompressionType': 'None'}},\n",
       "     {'InputName': 'input-2',\n",
       "      'AppManaged': False,\n",
       "      'S3Input': {'S3Uri': {'Get': \"Steps.masivaiProcess.ProcessingOutputConfig.Outputs['sale_test'].S3Output.S3Uri\"},\n",
       "       'LocalPath': '/opt/ml/processing/test',\n",
       "       'S3DataType': 'S3Prefix',\n",
       "       'S3InputMode': 'File',\n",
       "       'S3DataDistributionType': 'FullyReplicated',\n",
       "       'S3CompressionType': 'None'}},\n",
       "     {'InputName': 'code',\n",
       "      'AppManaged': False,\n",
       "      'S3Input': {'S3Uri': 's3://sagemaker-us-east-2-476153202769/masivaiEval-a26e5c3d435e9a47473d89f6f5839eae/input/code/evaluation.py',\n",
       "       'LocalPath': '/opt/ml/processing/input/code',\n",
       "       'S3DataType': 'S3Prefix',\n",
       "       'S3InputMode': 'File',\n",
       "       'S3DataDistributionType': 'FullyReplicated',\n",
       "       'S3CompressionType': 'None'}}],\n",
       "    'ProcessingOutputConfig': {'Outputs': [{'OutputName': 'evaluation',\n",
       "       'AppManaged': False,\n",
       "       'S3Output': {'S3Uri': 's3://sagemaker-us-east-2-476153202769/masivaiEval-a26e5c3d435e9a47473d89f6f5839eae/output/evaluation',\n",
       "        'LocalPath': '/opt/ml/processing/evaluation',\n",
       "        'S3UploadMode': 'EndOfJob'}}]}},\n",
       "   'PropertyFiles': [{'PropertyFileName': 'EvaluationReport',\n",
       "     'OutputName': 'evaluation',\n",
       "     'FilePath': 'evaluation.json'}]}]}"
      ]
     },
     "execution_count": 27,
     "metadata": {},
     "output_type": "execute_result"
    }
   ],
   "source": [
    "import json\n",
    "\n",
    "json.loads(pipeline.definition())"
   ]
  },
  {
   "cell_type": "code",
   "execution_count": 28,
   "id": "3c63e4f5",
   "metadata": {},
   "outputs": [
    {
     "data": {
      "text/plain": [
       "{'PipelineArn': 'arn:aws:sagemaker:us-east-2:476153202769:pipeline/propval-masivai',\n",
       " 'ResponseMetadata': {'RequestId': 'c05c79fb-b4b8-4ace-a225-64e5dcea00fb',\n",
       "  'HTTPStatusCode': 200,\n",
       "  'HTTPHeaders': {'x-amzn-requestid': 'c05c79fb-b4b8-4ace-a225-64e5dcea00fb',\n",
       "   'content-type': 'application/x-amz-json-1.1',\n",
       "   'content-length': '83',\n",
       "   'date': 'Tue, 11 Jan 2022 07:16:21 GMT'},\n",
       "  'RetryAttempts': 0}}"
      ]
     },
     "execution_count": 28,
     "metadata": {},
     "output_type": "execute_result"
    }
   ],
   "source": [
    "pipeline.upsert(role_arn=role)"
   ]
  },
  {
   "cell_type": "code",
   "execution_count": 29,
   "id": "9b8be3d6",
   "metadata": {},
   "outputs": [],
   "source": [
    "execution = pipeline.start()"
   ]
  },
  {
   "cell_type": "code",
   "execution_count": 30,
   "id": "17ef4cb4",
   "metadata": {
    "scrolled": true
   },
   "outputs": [
    {
     "data": {
      "text/plain": [
       "{'PipelineArn': 'arn:aws:sagemaker:us-east-2:476153202769:pipeline/propval-masivai',\n",
       " 'PipelineExecutionArn': 'arn:aws:sagemaker:us-east-2:476153202769:pipeline/propval-masivai/execution/xj5dyh1iu90s',\n",
       " 'PipelineExecutionDisplayName': 'execution-1641885381555',\n",
       " 'PipelineExecutionStatus': 'Executing',\n",
       " 'CreationTime': datetime.datetime(2022, 1, 11, 7, 16, 21, 450000, tzinfo=tzlocal()),\n",
       " 'LastModifiedTime': datetime.datetime(2022, 1, 11, 7, 16, 21, 450000, tzinfo=tzlocal()),\n",
       " 'CreatedBy': {},\n",
       " 'LastModifiedBy': {},\n",
       " 'ResponseMetadata': {'RequestId': 'ca8096eb-0f64-4d92-968d-8192801c38fd',\n",
       "  'HTTPStatusCode': 200,\n",
       "  'HTTPHeaders': {'x-amzn-requestid': 'ca8096eb-0f64-4d92-968d-8192801c38fd',\n",
       "   'content-type': 'application/x-amz-json-1.1',\n",
       "   'content-length': '393',\n",
       "   'date': 'Tue, 11 Jan 2022 07:16:21 GMT'},\n",
       "  'RetryAttempts': 0}}"
      ]
     },
     "execution_count": 30,
     "metadata": {},
     "output_type": "execute_result"
    }
   ],
   "source": [
    "execution.describe()"
   ]
  },
  {
   "cell_type": "code",
   "execution_count": 31,
   "id": "90915859",
   "metadata": {},
   "outputs": [],
   "source": [
    "execution.wait()"
   ]
  },
  {
   "cell_type": "code",
   "execution_count": 32,
   "id": "d81ce7ce",
   "metadata": {},
   "outputs": [
    {
     "data": {
      "text/plain": [
       "[{'StepName': 'masivaiEval',\n",
       "  'StartTime': datetime.datetime(2022, 1, 11, 7, 36, 33, 488000, tzinfo=tzlocal()),\n",
       "  'EndTime': datetime.datetime(2022, 1, 11, 7, 40, 20, 615000, tzinfo=tzlocal()),\n",
       "  'StepStatus': 'Succeeded',\n",
       "  'AttemptCount': 0,\n",
       "  'Metadata': {'ProcessingJob': {'Arn': 'arn:aws:sagemaker:us-east-2:476153202769:processing-job/pipelines-xj5dyh1iu90s-masivaieval-i9l9hkdeks'}}},\n",
       " {'StepName': 'masivaiTrain',\n",
       "  'StartTime': datetime.datetime(2022, 1, 11, 7, 30, 23, 655000, tzinfo=tzlocal()),\n",
       "  'EndTime': datetime.datetime(2022, 1, 11, 7, 36, 32, 460000, tzinfo=tzlocal()),\n",
       "  'StepStatus': 'Succeeded',\n",
       "  'AttemptCount': 0,\n",
       "  'Metadata': {'TrainingJob': {'Arn': 'arn:aws:sagemaker:us-east-2:476153202769:training-job/pipelines-xj5dyh1iu90s-masivaitrain-fbjpthrlep'}}},\n",
       " {'StepName': 'masivaiProcess',\n",
       "  'StartTime': datetime.datetime(2022, 1, 11, 7, 16, 22, 791000, tzinfo=tzlocal()),\n",
       "  'EndTime': datetime.datetime(2022, 1, 11, 7, 30, 23, 80000, tzinfo=tzlocal()),\n",
       "  'StepStatus': 'Succeeded',\n",
       "  'AttemptCount': 0,\n",
       "  'Metadata': {'ProcessingJob': {'Arn': 'arn:aws:sagemaker:us-east-2:476153202769:processing-job/pipelines-xj5dyh1iu90s-masivaiprocess-xsumvr1l02'}}}]"
      ]
     },
     "execution_count": 32,
     "metadata": {},
     "output_type": "execute_result"
    }
   ],
   "source": [
    "execution.list_steps()"
   ]
  },
  {
   "cell_type": "code",
   "execution_count": null,
   "id": "8b60b112",
   "metadata": {},
   "outputs": [],
   "source": []
  },
  {
   "cell_type": "code",
   "execution_count": null,
   "id": "c95b41d5",
   "metadata": {},
   "outputs": [],
   "source": [
    "evaluation_json = sagemaker.s3.S3Downloader.read_file(\"{}/evaluation.json\".format(\n",
    "    step_eval.arguments[\"ProcessingOutputConfig\"][\"Outputs\"][0][\"S3Output\"][\"S3Uri\"]\n",
    "))\n",
    "json.loads(evaluation_json)"
   ]
  },
  {
   "cell_type": "code",
   "execution_count": null,
   "id": "8165c855",
   "metadata": {},
   "outputs": [],
   "source": []
  },
  {
   "cell_type": "code",
   "execution_count": null,
   "id": "6a96f3ec",
   "metadata": {},
   "outputs": [],
   "source": []
  },
  {
   "cell_type": "code",
   "execution_count": null,
   "id": "08184a5d",
   "metadata": {},
   "outputs": [],
   "source": []
  }
 ],
 "metadata": {
  "kernelspec": {
   "display_name": "conda_python3",
   "language": "python",
   "name": "conda_python3"
  },
  "language_info": {
   "codemirror_mode": {
    "name": "ipython",
    "version": 3
   },
   "file_extension": ".py",
   "mimetype": "text/x-python",
   "name": "python",
   "nbconvert_exporter": "python",
   "pygments_lexer": "ipython3",
   "version": "3.6.13"
  }
 },
 "nbformat": 4,
 "nbformat_minor": 5
}
